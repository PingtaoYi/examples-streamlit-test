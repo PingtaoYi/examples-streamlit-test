{
 "cells": [
  {
   "cell_type": "code",
   "execution_count": 1,
   "metadata": {},
   "outputs": [],
   "source": [
    "library(ggplot2)"
   ]
  },
  {
   "cell_type": "code",
   "execution_count": 2,
   "metadata": {},
   "outputs": [
    {
     "data": {
      "text/plain": [
       "\u001b[38;5;246m# A tibble: 53,940 × 10\u001b[39m\n",
       "   carat cut       color clarity depth table price     x     y     z\n",
       "   \u001b[3m\u001b[38;5;246m<dbl>\u001b[39m\u001b[23m \u001b[3m\u001b[38;5;246m<ord>\u001b[39m\u001b[23m     \u001b[3m\u001b[38;5;246m<ord>\u001b[39m\u001b[23m \u001b[3m\u001b[38;5;246m<ord>\u001b[39m\u001b[23m   \u001b[3m\u001b[38;5;246m<dbl>\u001b[39m\u001b[23m \u001b[3m\u001b[38;5;246m<dbl>\u001b[39m\u001b[23m \u001b[3m\u001b[38;5;246m<int>\u001b[39m\u001b[23m \u001b[3m\u001b[38;5;246m<dbl>\u001b[39m\u001b[23m \u001b[3m\u001b[38;5;246m<dbl>\u001b[39m\u001b[23m \u001b[3m\u001b[38;5;246m<dbl>\u001b[39m\u001b[23m\n",
       "\u001b[38;5;250m 1\u001b[39m  0.23 Ideal     E     SI2      61.5    55   326  3.95  3.98  2.43\n",
       "\u001b[38;5;250m 2\u001b[39m  0.21 Premium   E     SI1      59.8    61   326  3.89  3.84  2.31\n",
       "\u001b[38;5;250m 3\u001b[39m  0.23 Good      E     VS1      56.9    65   327  4.05  4.07  2.31\n",
       "\u001b[38;5;250m 4\u001b[39m  0.29 Premium   I     VS2      62.4    58   334  4.2   4.23  2.63\n",
       "\u001b[38;5;250m 5\u001b[39m  0.31 Good      J     SI2      63.3    58   335  4.34  4.35  2.75\n",
       "\u001b[38;5;250m 6\u001b[39m  0.24 Very Good J     VVS2     62.8    57   336  3.94  3.96  2.48\n",
       "\u001b[38;5;250m 7\u001b[39m  0.24 Very Good I     VVS1     62.3    57   336  3.95  3.98  2.47\n",
       "\u001b[38;5;250m 8\u001b[39m  0.26 Very Good H     SI1      61.9    55   337  4.07  4.11  2.53\n",
       "\u001b[38;5;250m 9\u001b[39m  0.22 Fair      E     VS2      65.1    61   337  3.87  3.78  2.49\n",
       "\u001b[38;5;250m10\u001b[39m  0.23 Very Good H     VS1      59.4    61   338  4     4.05  2.39\n",
       "\u001b[38;5;246m# ℹ 53,930 more rows\u001b[39m\n",
       "\u001b[38;5;246m# ℹ Use `print(n = ...)` to see more rows\u001b[39m"
      ]
     },
     "execution_count": null,
     "metadata": {},
     "output_type": "execute_result"
    }
   ],
   "source": [
    "diamonds"
   ]
  },
  {
   "cell_type": "code",
   "execution_count": 3,
   "metadata": {},
   "outputs": [],
   "source": [
    "data(diamonds)"
   ]
  },
  {
   "cell_type": "code",
   "execution_count": 4,
   "metadata": {},
   "outputs": [
    {
     "data": {
      "text/plain": [
       "\u001b[38;5;246m# A tibble: 53,940 × 10\u001b[39m\n",
       "   carat cut       color clarity depth table price     x     y     z\n",
       "   \u001b[3m\u001b[38;5;246m<dbl>\u001b[39m\u001b[23m \u001b[3m\u001b[38;5;246m<ord>\u001b[39m\u001b[23m     \u001b[3m\u001b[38;5;246m<ord>\u001b[39m\u001b[23m \u001b[3m\u001b[38;5;246m<ord>\u001b[39m\u001b[23m   \u001b[3m\u001b[38;5;246m<dbl>\u001b[39m\u001b[23m \u001b[3m\u001b[38;5;246m<dbl>\u001b[39m\u001b[23m \u001b[3m\u001b[38;5;246m<int>\u001b[39m\u001b[23m \u001b[3m\u001b[38;5;246m<dbl>\u001b[39m\u001b[23m \u001b[3m\u001b[38;5;246m<dbl>\u001b[39m\u001b[23m \u001b[3m\u001b[38;5;246m<dbl>\u001b[39m\u001b[23m\n",
       "\u001b[38;5;250m 1\u001b[39m  0.23 Ideal     E     SI2      61.5    55   326  3.95  3.98  2.43\n",
       "\u001b[38;5;250m 2\u001b[39m  0.21 Premium   E     SI1      59.8    61   326  3.89  3.84  2.31\n",
       "\u001b[38;5;250m 3\u001b[39m  0.23 Good      E     VS1      56.9    65   327  4.05  4.07  2.31\n",
       "\u001b[38;5;250m 4\u001b[39m  0.29 Premium   I     VS2      62.4    58   334  4.2   4.23  2.63\n",
       "\u001b[38;5;250m 5\u001b[39m  0.31 Good      J     SI2      63.3    58   335  4.34  4.35  2.75\n",
       "\u001b[38;5;250m 6\u001b[39m  0.24 Very Good J     VVS2     62.8    57   336  3.94  3.96  2.48\n",
       "\u001b[38;5;250m 7\u001b[39m  0.24 Very Good I     VVS1     62.3    57   336  3.95  3.98  2.47\n",
       "\u001b[38;5;250m 8\u001b[39m  0.26 Very Good H     SI1      61.9    55   337  4.07  4.11  2.53\n",
       "\u001b[38;5;250m 9\u001b[39m  0.22 Fair      E     VS2      65.1    61   337  3.87  3.78  2.49\n",
       "\u001b[38;5;250m10\u001b[39m  0.23 Very Good H     VS1      59.4    61   338  4     4.05  2.39\n",
       "\u001b[38;5;246m# ℹ 53,930 more rows\u001b[39m\n",
       "\u001b[38;5;246m# ℹ Use `print(n = ...)` to see more rows\u001b[39m"
      ]
     },
     "execution_count": null,
     "metadata": {},
     "output_type": "execute_result"
    }
   ],
   "source": [
    "diamonds"
   ]
  },
  {
   "cell_type": "code",
   "execution_count": 5,
   "metadata": {},
   "outputs": [],
   "source": [
    "library(shiny)"
   ]
  },
  {
   "cell_type": "code",
   "execution_count": 7,
   "metadata": {},
   "outputs": [
    {
     "name": "stdout",
     "output_type": "stream",
     "text": [
      "\n",
      "载入程序包：‘bslib’\n",
      "\n",
      "The following object is masked from ‘package:utils’:\n",
      "\n",
      "    page\n",
      "\n",
      "\n",
      "Listening on http://127.0.0.1:4706\n"
     ]
    },
    {
     "name": "stderr",
     "output_type": "stream",
     "text": [
      "\n",
      "\n"
     ]
    }
   ],
   "source": [
    "runExample('01_hello')"
   ]
  },
  {
   "cell_type": "code",
   "execution_count": 8,
   "metadata": {},
   "outputs": [],
   "source": [
    "help(runExample)"
   ]
  },
  {
   "cell_type": "code",
   "execution_count": 9,
   "metadata": {},
   "outputs": [
    {
     "name": "stdout",
     "output_type": "stream",
     "text": [
      "Valid examples in {shiny}: \"01_hello\", \"02_text\", \"03_reactivity\", \"04_mpg\", \"05_sliders\", \"06_tabsets\", \"07_widgets\", \"08_html\", \"09_upload\", \"10_download\", \"11_timer\"\n"
     ]
    }
   ],
   "source": [
    "runExample()"
   ]
  },
  {
   "cell_type": "code",
   "execution_count": 15,
   "metadata": {},
   "outputs": [
    {
     "name": "stdout",
     "output_type": "stream",
     "text": [
      "Valid examples in {shiny}: \"01_hello\", \"02_text\", \"03_reactivity\", \"04_mpg\", \"05_sliders\", \"06_tabsets\", \"07_widgets\", \"08_html\", \"09_upload\", \"10_download\", \"11_timer\"\n"
     ]
    }
   ],
   "source": [
    "list <- as.list(runExample())"
   ]
  },
  {
   "cell_type": "code",
   "execution_count": 16,
   "metadata": {},
   "outputs": [
    {
     "data": {
      "text/plain": [
       "list()"
      ]
     },
     "execution_count": null,
     "metadata": {},
     "output_type": "execute_result"
    }
   ],
   "source": [
    "list"
   ]
  },
  {
   "cell_type": "code",
   "execution_count": 18,
   "metadata": {},
   "outputs": [
    {
     "name": "stdout",
     "output_type": "stream",
     "text": [
      "Valid examples in {shiny}: \"01_hello\", \"02_text\", \"03_reactivity\", \"04_mpg\", \"05_sliders\", \"06_tabsets\", \"07_widgets\", \"08_html\", \"09_upload\", \"10_download\", \"11_timer\"\n"
     ]
    },
    {
     "data": {
      "text/plain": [
       "[1] \"NULL\""
      ]
     },
     "execution_count": null,
     "metadata": {},
     "output_type": "execute_result"
    }
   ],
   "source": [
    "class(runExample())"
   ]
  },
  {
   "cell_type": "code",
   "execution_count": 19,
   "metadata": {},
   "outputs": [
    {
     "name": "stdout",
     "output_type": "stream",
     "text": [
      "Valid examples in {shiny}: \"01_hello\", \"02_text\", \"03_reactivity\", \"04_mpg\", \"05_sliders\", \"06_tabsets\", \"07_widgets\", \"08_html\", \"09_upload\", \"10_download\", \"11_timer\"\n",
      " NULL\n"
     ]
    }
   ],
   "source": [
    "str(runExample())"
   ]
  },
  {
   "cell_type": "code",
   "execution_count": 20,
   "metadata": {},
   "outputs": [],
   "source": [
    "ls = c(\"01_hello\", \"02_text\", \"03_reactivity\", \"04_mpg\", \"05_sliders\", \"06_tabsets\", \"07_widgets\", \"08_html\", \"09_upload\", \"10_download\", \"11_timer\")"
   ]
  },
  {
   "cell_type": "code",
   "execution_count": 21,
   "metadata": {},
   "outputs": [
    {
     "data": {
      "text/plain": [
       " [1] \"01_hello\"      \"02_text\"       \"03_reactivity\" \"04_mpg\"        \"05_sliders\"    \"06_tabsets\"   \n",
       " [7] \"07_widgets\"    \"08_html\"       \"09_upload\"     \"10_download\"   \"11_timer\"     "
      ]
     },
     "execution_count": null,
     "metadata": {},
     "output_type": "execute_result"
    }
   ],
   "source": [
    "ls[]"
   ]
  },
  {
   "cell_type": "code",
   "execution_count": 29,
   "metadata": {},
   "outputs": [
    {
     "name": "stdout",
     "output_type": "stream",
     "text": [
      "\n",
      "Listening on http://127.0.0.1:4706\n"
     ]
    },
    {
     "name": "stderr",
     "output_type": "stream",
     "text": [
      "\n",
      "\n"
     ]
    }
   ],
   "source": [
    "runExample(ls[5])"
   ]
  },
  {
   "cell_type": "code",
   "execution_count": 30,
   "metadata": {},
   "outputs": [],
   "source": [
    "?runExample()"
   ]
  },
  {
   "cell_type": "code",
   "execution_count": null,
   "metadata": {},
   "outputs": [],
   "source": [
    "help(shiny)"
   ]
  },
  {
   "cell_type": "code",
   "execution_count": null,
   "metadata": {},
   "outputs": [],
   "source": []
  }
 ],
 "metadata": {
  "language_info": {
   "name": "r"
  }
 },
 "nbformat": 4,
 "nbformat_minor": 2
}
